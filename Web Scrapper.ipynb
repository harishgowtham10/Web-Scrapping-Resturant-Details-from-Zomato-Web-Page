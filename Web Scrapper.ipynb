{
 "cells": [
  {
   "cell_type": "markdown",
   "metadata": {},
   "source": [
    "# Importing"
   ]
  },
  {
   "cell_type": "code",
   "execution_count": 1,
   "metadata": {},
   "outputs": [],
   "source": [
    "import requests\n",
    "import csv\n",
    "import json\n",
    "from bs4 import BeautifulSoup"
   ]
  },
  {
   "cell_type": "markdown",
   "metadata": {},
   "source": [
    "# Web Scrapping"
   ]
  },
  {
   "cell_type": "code",
   "execution_count": 2,
   "metadata": {},
   "outputs": [],
   "source": [
    "page = 1\n",
    "i = 0\n",
    "final = []\n",
    "while (page<=6):\n",
    "    url = \"https://www.zomato.com/bangalore/south-bangalore-restaurants?page=\"+str(page)\n",
    "    page =page+1\n",
    "    headers = {'User-Agent': 'Mozilla/5.0 (Macintosh; Intel Mac OS X 10_11_6) AppleWebKit/537.36 (KHTML, like Gecko) Chrome/61.0.3163.100 Safari/537.36'}\n",
    "    response = requests.get(url,headers=headers)\n",
    "    content = response.content\n",
    "    soup = BeautifulSoup(content,\"html.parser\")\n",
    "    res_type_containers = soup.findAll(\"div\",{\"class\",\"col-s-12\"})\n",
    "    vote_rate_containers = soup.findAll(\"div\",{\"class\",\"ta-right floating search_result_rating col-s-4 clearfix\"})   \n",
    "    for row in range(len(res_type_containers)):\n",
    "        text = ''\n",
    "        if(i==80):\n",
    "            break\n",
    "        else:\n",
    "            restaurant_id = i + 1 \n",
    "            text = res_type_containers[row].text\n",
    "            text = text.strip()\n",
    "            text = text.split('\\n')\n",
    "            name = text[1]\n",
    "            area = text[-1]\n",
    "            restaurant_type = text[0]\n",
    "            rating = vote_rate_containers[0].div.text\n",
    "            rating = \" \".join(rating.split()) \n",
    "            vote = vote_rate_containers[0].span.text\n",
    "            vote = \" \".join(vote.split())\n",
    "            local_dict = {\n",
    "                \"restaurant_id\":restaurant_id,\n",
    "                \"name\":name,\n",
    "                \"area\":area,\n",
    "                \"restaurant_type\":restaurant_type,\n",
    "                \"rating\":rating,\n",
    "                \"votes\":vote\n",
    "                }\n",
    "            final.append(local_dict)\n",
    "            i=i+1"
   ]
  },
  {
   "cell_type": "markdown",
   "metadata": {},
   "source": [
    "# CSV Export"
   ]
  },
  {
   "cell_type": "code",
   "execution_count": 3,
   "metadata": {},
   "outputs": [],
   "source": [
    "csv_columns = ['restaurant_id','name','area','restaurant_type','rating','votes']\n",
    "try:\n",
    "    with open('output.csv', 'w',encoding='utf-8') as csvfile:\n",
    "        writer = csv.DictWriter(csvfile, fieldnames=csv_columns)\n",
    "        writer.writeheader()\n",
    "        for data in final:\n",
    "            writer.writerow(data)\n",
    "except IOError:\n",
    "    print(\"I/O error\")"
   ]
  },
  {
   "cell_type": "markdown",
   "metadata": {},
   "source": [
    "# JSON Export"
   ]
  },
  {
   "cell_type": "code",
   "execution_count": 4,
   "metadata": {},
   "outputs": [],
   "source": [
    "json_object = json.dumps(final, indent = 6) \n",
    "  \n",
    "# Writing to sample.json \n",
    "with open(\"output.json\", \"w\") as outfile: \n",
    "    outfile.write(json_object) "
   ]
  }
 ],
 "metadata": {
  "kernelspec": {
   "display_name": "Python 3",
   "language": "python",
   "name": "python3"
  },
  "language_info": {
   "codemirror_mode": {
    "name": "ipython",
    "version": 3
   },
   "file_extension": ".py",
   "mimetype": "text/x-python",
   "name": "python",
   "nbconvert_exporter": "python",
   "pygments_lexer": "ipython3",
   "version": "3.7.6"
  }
 },
 "nbformat": 4,
 "nbformat_minor": 4
}
